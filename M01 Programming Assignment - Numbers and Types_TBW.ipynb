{
 "cells": [
  {
   "cell_type": "code",
   "execution_count": 9,
   "id": "90b42956",
   "metadata": {},
   "outputs": [
    {
     "name": "stdout",
     "output_type": "stream",
     "text": [
      "There are 3600 seconds in an hour.\n"
     ]
    }
   ],
   "source": [
    "# Calculate the number of seconds in an hour and save it in a variable called seconds_per_hour\n",
    "seconds_per_minute = 60\n",
    "seconds_per_hour = seconds_per_minute * 60\n",
    "\n",
    "print(\"There are\", seconds_per_hour, \"seconds in an hour.\")"
   ]
  },
  {
   "cell_type": "code",
   "execution_count": 10,
   "id": "69fd2c09",
   "metadata": {},
   "outputs": [
    {
     "name": "stdout",
     "output_type": "stream",
     "text": [
      "There are 3600 seconds in an hour.\n"
     ]
    }
   ],
   "source": [
    "# Calculate the number of seconds in an hour and save it in a variable called seconds_per_hour\n",
    "seconds_per_minute = 60\n",
    "seconds_per_hour = seconds_per_minute * 60\n",
    "\n",
    "# Assign the result from the previous task (seconds in an hour) to a variable called seconds_per_hour\n",
    "seconds_per_hour = seconds_per_minute * 60\n",
    "\n",
    "print(\"There are\", seconds_per_hour, \"seconds in an hour.\")\n"
   ]
  },
  {
   "cell_type": "code",
   "execution_count": 11,
   "id": "7bd11ce4",
   "metadata": {},
   "outputs": [
    {
     "name": "stdout",
     "output_type": "stream",
     "text": [
      "There are 86400 seconds in a day.\n"
     ]
    }
   ],
   "source": [
    "# Calculate the number of seconds in a day using the seconds_per_hour variable\n",
    "seconds_per_minute = 60\n",
    "seconds_per_hour = seconds_per_minute * 60\n",
    "seconds_per_day = seconds_per_hour * 24\n",
    "\n",
    "print(\"There are\", seconds_per_day, \"seconds in a day.\")\n"
   ]
  },
  {
   "cell_type": "code",
   "execution_count": 12,
   "id": "06ca96de",
   "metadata": {},
   "outputs": [
    {
     "name": "stdout",
     "output_type": "stream",
     "text": [
      "There are 86400 seconds in a day.\n"
     ]
    }
   ],
   "source": [
    "# Calculate the number of seconds in a day and save it in a variable called seconds_per_day\n",
    "seconds_per_minute = 60\n",
    "seconds_per_hour = seconds_per_minute * 60\n",
    "seconds_per_day = seconds_per_hour * 24\n",
    "\n",
    "print(\"There are\", seconds_per_day, \"seconds in a day.\")\n"
   ]
  },
  {
   "cell_type": "code",
   "execution_count": 13,
   "id": "56c5302e",
   "metadata": {},
   "outputs": [
    {
     "name": "stdout",
     "output_type": "stream",
     "text": [
      "There are 24.0 hours in a day.\n"
     ]
    }
   ],
   "source": [
    "# Calculate the number of seconds in a day and save it in a variable called seconds_per_day\n",
    "seconds_per_minute = 60\n",
    "seconds_per_hour = seconds_per_minute * 60\n",
    "seconds_per_day = seconds_per_hour * 24\n",
    "\n",
    "# Divide seconds_per_day by seconds_per_hour using floating-point division\n",
    "seconds_per_hour = seconds_per_minute * 60\n",
    "seconds_per_day = seconds_per_hour * 24\n",
    "seconds_per_day_div_seconds_per_hour = seconds_per_day / seconds_per_hour\n",
    "\n",
    "print(\"There are\", seconds_per_day_div_seconds_per_hour, \"hours in a day.\")"
   ]
  },
  {
   "cell_type": "code",
   "execution_count": 14,
   "id": "6b1080f3",
   "metadata": {},
   "outputs": [
    {
     "name": "stdout",
     "output_type": "stream",
     "text": [
      "There are 24 hours in a day.\n"
     ]
    }
   ],
   "source": [
    "# Calculate the number of seconds in a day and save it in a variable called seconds_per_day\n",
    "seconds_per_minute = 60\n",
    "seconds_per_hour = seconds_per_minute * 60\n",
    "seconds_per_day = seconds_per_hour * 24\n",
    "\n",
    "# Divide seconds_per_day by seconds_per_hour using integer division\n",
    "seconds_per_hour = seconds_per_minute * 60\n",
    "seconds_per_day = seconds_per_hour * 24\n",
    "seconds_per_day_div_seconds_per_hour = seconds_per_day // seconds_per_hour\n",
    "\n",
    "print(\"There are\", seconds_per_day_div_seconds_per_hour, \"hours in a day.\")\n"
   ]
  },
  {
   "cell_type": "code",
   "execution_count": null,
   "id": "f6f8e2fb",
   "metadata": {},
   "outputs": [],
   "source": []
  }
 ],
 "metadata": {
  "kernelspec": {
   "display_name": "Python 3 (ipykernel)",
   "language": "python",
   "name": "python3"
  },
  "language_info": {
   "codemirror_mode": {
    "name": "ipython",
    "version": 3
   },
   "file_extension": ".py",
   "mimetype": "text/x-python",
   "name": "python",
   "nbconvert_exporter": "python",
   "pygments_lexer": "ipython3",
   "version": "3.11.5"
  }
 },
 "nbformat": 4,
 "nbformat_minor": 5
}
